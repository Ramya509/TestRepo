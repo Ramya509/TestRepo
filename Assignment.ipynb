{
 "cells": [
  {
   "cell_type": "markdown",
   "id": "a3c1adcc-9ebc-45c8-a40a-c110b9144801",
   "metadata": {},
   "source": [
    "# Data Science Tools and Ecosystem"
   ]
  },
  {
   "cell_type": "markdown",
   "id": "4927fe63-daf7-4684-a8e0-fed3b0eb2e80",
   "metadata": {},
   "source": [
    "# Introduction\n",
    "In this notebook, Data Science Tools and Ecosystem are summarized.\n"
   ]
  },
  {
   "cell_type": "markdown",
   "id": "ca7cc7af-df66-4bb2-84ce-45eed35d089f",
   "metadata": {},
   "source": [
    "Some of the popular languages that Data Scientists use are:\n",
    "1. Python\n",
    "2. R\n",
    "3. SQL\n",
    "4. Scala"
   ]
  },
  {
   "cell_type": "markdown",
   "id": "759ea7b8-d27d-4d2b-bf07-04dd5445f4fc",
   "metadata": {},
   "source": [
    "Some of the commonly used libraries used by Data Scientists include:\n",
    "1. NumPy\n",
    "2. Pandas\n",
    "3. Scikit-learn\n"
   ]
  },
  {
   "cell_type": "markdown",
   "id": "2ea011ee-29de-4de0-8e24-1f61815c1fcc",
   "metadata": {},
   "source": [
    "| Data Science Tools |     Description      |\n",
    "|--------------------|----------------------|\n",
    "| MySQL              | Data Management tool |\n",
    "| Hadoop             | Data Management tool |\n",
    "| Jupyter            | Operating System tool|\n",
    "| RStudio            | Operating System tool|\n",
    "| Airflow            | Data Integration and transformation tool|\n",
    "| Kafka              | Data Integration and transformation tool|"
   ]
  },
  {
   "cell_type": "markdown",
   "id": "a8977f03-3a88-4eb1-9b0b-105dd66ad705",
   "metadata": {},
   "source": [
    "### Below are a few examples of evaluating arithmetic expressions in Python.\n"
   ]
  },
  {
   "cell_type": "code",
   "execution_count": 2,
   "id": "2a807e98-7cfb-4212-aa63-b82eb9a93194",
   "metadata": {},
   "outputs": [
    {
     "data": {
      "text/plain": [
       "17"
      ]
     },
     "execution_count": 2,
     "metadata": {},
     "output_type": "execute_result"
    }
   ],
   "source": [
    "# This is a simple arithmetic expression to multiply then add integers\n",
    "(3 * 4) + 5\n"
   ]
  },
  {
   "cell_type": "code",
   "execution_count": 3,
   "id": "1a07cb9f-30a3-4db7-b987-49f98af40870",
   "metadata": {},
   "outputs": [
    {
     "data": {
      "text/plain": [
       "3.3333333333333335"
      ]
     },
     "execution_count": 3,
     "metadata": {},
     "output_type": "execute_result"
    }
   ],
   "source": [
    "# This will convert 200 minutes to hours by dividing by 60\n",
    "200 / 60\n"
   ]
  },
  {
   "cell_type": "markdown",
   "id": "3570b5c3-ddba-4d8b-b8fa-1b0b85383101",
   "metadata": {},
   "source": [
    "**Objectives:**\n",
    "- List popular languages for Data Science\n",
    "- Explore commonly used data science libraries\n",
    "- Learn about tools for data science development\n"
   ]
  },
  {
   "cell_type": "markdown",
   "id": "74a0fad1-76a1-43fb-8196-e5e7ad814ebc",
   "metadata": {},
   "source": [
    "## Author\n",
    "Ramya Venkatasheshaiah\n"
   ]
  },
  {
   "cell_type": "code",
   "execution_count": null,
   "id": "d05eedbf-6455-47dc-a6aa-ee32a9750d6e",
   "metadata": {},
   "outputs": [],
   "source": []
  }
 ],
 "metadata": {
  "kernelspec": {
   "display_name": "Python 3 (ipykernel)",
   "language": "python",
   "name": "python3"
  },
  "language_info": {
   "codemirror_mode": {
    "name": "ipython",
    "version": 3
   },
   "file_extension": ".py",
   "mimetype": "text/x-python",
   "name": "python",
   "nbconvert_exporter": "python",
   "pygments_lexer": "ipython3",
   "version": "3.12.7"
  }
 },
 "nbformat": 4,
 "nbformat_minor": 5
}

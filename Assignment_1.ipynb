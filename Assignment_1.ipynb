{
 "cells": [
  {
   "cell_type": "markdown",
   "id": "a3c1adcc-9ebc-45c8-a40a-c110b9144801",
   "metadata": {},
   "source": [
    "**My First Assignment**"
   ]
  },
  {
   "cell_type": "markdown",
   "id": "ddc2c25f-3bcc-486e-8b35-9219a810efc5",
   "metadata": {},
   "source": [
    "Introduction"
   ]
  },
  {
   "cell_type": "markdown",
   "id": "6c7250fc-11ba-4b71-b37d-373bb4c4ff54",
   "metadata": {},
   "source": [
    "Data Science Languages:\n",
    "1. SQL\n",
    "2. Python\n",
    "3. R\n",
    "4. Scala\n"
   ]
  },
  {
   "cell_type": "markdown",
   "id": "53bcd6c9-0cbd-4ca8-a9d1-3b194b2a7609",
   "metadata": {},
   "source": [
    "Data Science Libraries:\n",
    "1. NumPy\n",
    "2. Pandas\n",
    "3. Matplotlib\n",
    "4. Scikit-learn\n",
    "5. Scipy\n",
    "6. Tensorflow\n",
    "7. Keras\n",
    "8. Seaborn\n",
    "9. Plotly\n",
    "10. Pytorch"
   ]
  },
  {
   "cell_type": "markdown",
   "id": "102e9e7c-aa5c-4fc3-9fcc-9d2b714ba848",
   "metadata": {},
   "source": [
    "# Data Science Tools\n",
    "\n",
    "| Tool Name         | Category               | \n",
    "|-------------------|------------------------|\n",
    "| Python            | Programming Language   | \n",
    "| R                 | Programming Language   | \n",
    "| Jupyter Notebook  | Development Environment|  \n",
    "| Tableau           | Data Visualization     | \n",
    "| Apache Spark      | Big Data Processing    |                              \n",
    "| SQL               | Query Language         |                                  \n",
    "\n"
   ]
  },
  {
   "cell_type": "markdown",
   "id": "a52319f1-30a9-4a12-a4c6-b1b4a4a29766",
   "metadata": {},
   "source": [
    "Introduction to arithematic expressions:\n",
    "\n",
    "- **Addition**: `5 + 3 = 8`\n",
    "- **Subtraction**: `10 - 4 = 6`\n",
    "- **Multiplication**: `7 * 2 = 14`\n",
    "- **Division**: `16 / 4 = 4`\n",
    "- **Exponentiation**: `2^3 = 8`\n",
    "\n"
   ]
  },
  {
   "cell_type": "code",
   "execution_count": 5,
   "id": "bed433ff-c809-4068-97b7-24707c8fb463",
   "metadata": {},
   "outputs": [
    {
     "name": "stdout",
     "output_type": "stream",
     "text": [
      "1210\n",
      "70\n",
      "44.550000000000004\n"
     ]
    }
   ],
   "source": [
    "# Arithermematic Operations\n",
    "\n",
    "print (10+30 * 40)\n",
    "print (30+40)\n",
    "print (4.5 * 9.9)\n"
   ]
  },
  {
   "cell_type": "code",
   "execution_count": 9,
   "id": "dcb5aad6-6956-4655-8456-df9132c2ea0d",
   "metadata": {},
   "outputs": [
    {
     "name": "stdout",
     "output_type": "stream",
     "text": [
      "120 minutes is equal to 2.0 hours.\n"
     ]
    }
   ],
   "source": [
    "# Convert minutes to hours\n",
    "\n",
    "minutes = 120\n",
    "hours = minutes / 60\n",
    "print(f\"{minutes} minutes is equal to {hours} hours.\")\n"
   ]
  },
  {
   "cell_type": "markdown",
   "id": "594b4ba4-06cb-4b22-b51f-76741a08b439",
   "metadata": {},
   "source": [
    "# Objectives\n",
    "\n",
    "- Understand the basic concepts of data science tools.\n",
    "- Learn how to use Jupyter Lab.\n",
    "- Familiarize with Markdown Cells and Code Cells.\n",
    "- Familiarize with Arithematic Operations."
   ]
  },
  {
   "cell_type": "markdown",
   "id": "7edb9719-f156-4676-b770-ca886e426ad6",
   "metadata": {},
   "source": [
    "*Author's Name: Ramya Venkatasheshaiah*"
   ]
  }
 ],
 "metadata": {
  "kernelspec": {
   "display_name": "Python 3 (ipykernel)",
   "language": "python",
   "name": "python3"
  },
  "language_info": {
   "codemirror_mode": {
    "name": "ipython",
    "version": 3
   },
   "file_extension": ".py",
   "mimetype": "text/x-python",
   "name": "python",
   "nbconvert_exporter": "python",
   "pygments_lexer": "ipython3",
   "version": "3.12.7"
  }
 },
 "nbformat": 4,
 "nbformat_minor": 5
}
